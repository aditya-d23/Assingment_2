{
 "cells": [
  {
   "cell_type": "markdown",
   "id": "e0e98553-bd50-49b7-bf90-713b55182009",
   "metadata": {},
   "source": [
    "Ques 1. Which keyword is used to create a function? Create a function to return a list of odd numbers in the range of 1 to 25"
   ]
  },
  {
   "cell_type": "markdown",
   "id": "54cdbf26-fecb-408a-a7d1-aca7acb895f6",
   "metadata": {},
   "source": [
    "Ans- In python we are using 'def' keyword to create a function"
   ]
  },
  {
   "cell_type": "code",
   "execution_count": 3,
   "id": "5560a49a-c985-40f4-82f2-f5c99449e72b",
   "metadata": {},
   "outputs": [
    {
     "name": "stdout",
     "output_type": "stream",
     "text": [
      "[1, 3, 5, 7, 9, 11, 13, 15, 17, 19, 21, 23, 25]\n"
     ]
    }
   ],
   "source": [
    "# A function to return a list of odd numbers in the range of 1 to 25\n",
    "def odd_return():\n",
    "    \"\"\"This function returns the odd number in the range of 1 to 25 \"\"\"\n",
    "    odd_num=list(range(1,26))\n",
    "    return [i for i in odd_num if i%2!=0]\n",
    "print(odd_return())"
   ]
  },
  {
   "cell_type": "markdown",
   "id": "78216075-2187-4eb3-a2ff-10b7f4c6a8b9",
   "metadata": {},
   "source": [
    "Ques 2. Why *args and **kwargs is used in some functions? Create a function each for *args and **kwargs to demonstrate their use"
   ]
  },
  {
   "cell_type": "markdown",
   "id": "b90714f6-e638-4010-80b7-2addf94b31e7",
   "metadata": {},
   "source": [
    "Ans- *args are basically used as parameter to a function where we don't have limit in the arguments that we are passing in function if use *args as one of the parameter to a function means we are not specifying limit of the parameter we are passing.\n",
    "Now **kwargs is a special type of parameter which has same functionality as that of *args but this time instead of passing only parameters we are bound to pass key value pair ."
   ]
  },
  {
   "cell_type": "code",
   "execution_count": 9,
   "id": "733e00cb-8f64-42b2-98c0-efb2872da648",
   "metadata": {},
   "outputs": [
    {
     "data": {
      "text/plain": [
       "(1, 2, 3, 4, 5, 6, 7)"
      ]
     },
     "execution_count": 9,
     "metadata": {},
     "output_type": "execute_result"
    }
   ],
   "source": [
    "#create a function each for *args and **kwargs to demonstrate their use\n",
    "def fun(*args):\n",
    "    return args\n",
    "fun(1,2,3,4,5,6,7) #this basically defines the arguments that we don't have any restrictions "
   ]
  },
  {
   "cell_type": "code",
   "execution_count": 18,
   "id": "e766e645-54e6-44d0-b121-e8da28356dbe",
   "metadata": {},
   "outputs": [
    {
     "name": "stdout",
     "output_type": "stream",
     "text": [
      "Hari 123\n",
      "ram 456\n",
      "shyam 789\n"
     ]
    }
   ],
   "source": [
    "def fun1(**kwargs):\n",
    "    for key,value in kwargs.items():\n",
    "        print(key,value)\n",
    "fun1(Hari=123,ram=456,shyam=789)"
   ]
  },
  {
   "cell_type": "markdown",
   "id": "ba3c5efc-2430-4208-9193-f58320fc0b8b",
   "metadata": {},
   "source": [
    "Ques 3. What is an iterator in python? Name the method used to initialise the iterator object and the method \n",
    "used for iteration. Use these methods to print the first five elements of the given list [2, 4, 6, 8, 10, 12, 14, \n",
    "16, 18, 20]."
   ]
  },
  {
   "cell_type": "markdown",
   "id": "4e570af8-d540-4577-8b35-ee0cc855347d",
   "metadata": {},
   "source": [
    "An iterator in python comes from word iterable which we can loop through it and we can do iteration over it. like any string is iterable but we can not iterate over it untill we can we make it iterator.  The inbuild method used for the initialise the iterator object is 'iter' method. And 'next' is the well known method used for iteration. "
   ]
  },
  {
   "cell_type": "code",
   "execution_count": 5,
   "id": "58aa7fda-95c4-4c51-877d-29fc668bdfb1",
   "metadata": {},
   "outputs": [
    {
     "name": "stdout",
     "output_type": "stream",
     "text": [
      "2\n",
      "4\n",
      "6\n",
      "8\n",
      "10\n"
     ]
    }
   ],
   "source": [
    "# USe these methods to print first five elements of the given list [2,4,6,8,10,12,16,18,20]\n",
    "given_list=[2,4,6,8,10,12,14,16,18,20]\n",
    "x=iter(given_list)\n",
    "for _ in range(5):\n",
    "    print(next(x))"
   ]
  },
  {
   "cell_type": "markdown",
   "id": "72cc4282-2815-45b2-83d5-f543b40142d3",
   "metadata": {},
   "source": [
    "Q4.  What is a generator function in python? Why yield keyword is used? Give an example of a generator \n",
    "function."
   ]
  },
  {
   "cell_type": "markdown",
   "id": "21504f60-097b-4ccb-86c6-f16bf1e1a63b",
   "metadata": {},
   "source": [
    "Ans- Generator function is basically the function which is not limited itself with a particular constraint like in any loop we have fixed number of iteration. When we are using  generating function we can generate as many output as required with use of special keyword which called 'yield'. "
   ]
  },
  {
   "cell_type": "code",
   "execution_count": 18,
   "id": "9e5c9098-8d47-40e1-92f8-277493a41453",
   "metadata": {},
   "outputs": [
    {
     "name": "stdout",
     "output_type": "stream",
     "text": [
      "0\n",
      "5\n",
      "10\n",
      "15\n",
      "20\n"
     ]
    }
   ],
   "source": [
    "#An example of generating function\n",
    "def fun(n):\n",
    "    i=1\n",
    "    for i in range(n):\n",
    "        x=n*i\n",
    "        yield x\n",
    "        i+=1\n",
    "x=fun(5)\n",
    "y=iter(x)\n",
    "for _ in range(5):\n",
    "    print(next(y))"
   ]
  },
  {
   "cell_type": "markdown",
   "id": "15f82c46-43f3-4cf0-b79c-da2a447b40e2",
   "metadata": {},
   "source": [
    "Q5. Create a generator function for prime numbers less than 1000. Use the next() method to print the \n",
    "first 20 prime numbers."
   ]
  },
  {
   "cell_type": "code",
   "execution_count": 31,
   "id": "2d96ac3e-04a5-4119-ad3f-8ea1d754e544",
   "metadata": {},
   "outputs": [
    {
     "name": "stdout",
     "output_type": "stream",
     "text": [
      "2\n",
      "3\n",
      "5\n",
      "7\n",
      "11\n",
      "13\n",
      "17\n",
      "19\n",
      "23\n",
      "29\n",
      "31\n",
      "37\n",
      "41\n",
      "43\n",
      "47\n",
      "53\n",
      "59\n",
      "61\n",
      "67\n",
      "71\n"
     ]
    }
   ],
   "source": [
    "def prime():\n",
    "    for num in range(2, 1000):\n",
    "        for i in range(2, num):\n",
    "            if num % i == 0:\n",
    "                break\n",
    "        else:\n",
    "            yield num\n",
    "\n",
    "primes = prime()\n",
    "for _ in range(20):\n",
    "    print(next(primes))\n"
   ]
  },
  {
   "cell_type": "markdown",
   "id": "f27b5e3d-a0af-43ec-80fc-a60e86dbc110",
   "metadata": {},
   "source": [
    "Q6. Write a python program to print the first 10 Fibonacci numbers using a while loop."
   ]
  },
  {
   "cell_type": "code",
   "execution_count": 5,
   "id": "69c6019f-6a68-40ed-a6c5-78663a72a45c",
   "metadata": {},
   "outputs": [
    {
     "name": "stdout",
     "output_type": "stream",
     "text": [
      "1\n",
      "2\n",
      "3\n",
      "5\n",
      "8\n",
      "13\n",
      "21\n",
      "34\n",
      "55\n",
      "89\n"
     ]
    }
   ],
   "source": [
    "def fibo():\n",
    "    a,b=0,1\n",
    "    while True:\n",
    "        a,b=b,a+b\n",
    "        yield b\n",
    "fibonacci=iter(fibo())\n",
    "for _ in range(10):\n",
    "    print(next(fibonacci))\n"
   ]
  },
  {
   "cell_type": "markdown",
   "id": "c971b137-c6af-461c-b3ba-477344944b37",
   "metadata": {},
   "source": [
    "Q7. Write a List Comprehension to iterate through the given string: ‘pwskills’.\n",
    "\n",
    "Expected output: ['p', 'w', 's', 'k', 'i', 'l', 'l', 's'] "
   ]
  },
  {
   "cell_type": "code",
   "execution_count": 8,
   "id": "ec825b25-7cf2-4a9d-a4c7-5226a5cf00f2",
   "metadata": {},
   "outputs": [
    {
     "data": {
      "text/plain": [
       "['p', 'w', 's', 'k', 'i', 'l', 'l', 's']"
      ]
     },
     "execution_count": 8,
     "metadata": {},
     "output_type": "execute_result"
    }
   ],
   "source": [
    "given_string='pwskills'\n",
    "y=iter(given_string)\n",
    "[i for i in y]"
   ]
  },
  {
   "cell_type": "markdown",
   "id": "c7df0d20-f101-4ff0-a599-19d22ca9c4b6",
   "metadata": {},
   "source": [
    "Q8. Write a python program to check whether a given number is Palindrome or not using a while loop."
   ]
  },
  {
   "cell_type": "code",
   "execution_count": 1,
   "id": "a59b9e44-6470-48f2-b76f-78d82494b719",
   "metadata": {},
   "outputs": [
    {
     "name": "stdin",
     "output_type": "stream",
     "text": [
      "Enter the number:  131\n"
     ]
    },
    {
     "data": {
      "text/plain": [
       "True"
      ]
     },
     "execution_count": 1,
     "metadata": {},
     "output_type": "execute_result"
    }
   ],
   "source": [
    "num=input(\"Enter the number: \")\n",
    "\n",
    "def palindrome(num):\n",
    "    return num==num[::-1]\n",
    "palindrome(num)\n",
    "    "
   ]
  },
  {
   "cell_type": "markdown",
   "id": "c632fe18-f480-4065-9161-f847c9e68db4",
   "metadata": {},
   "source": [
    "Q9. Write a code to print odd numbers from 1 to 100 using list comprehension."
   ]
  },
  {
   "cell_type": "code",
   "execution_count": 10,
   "id": "9e863eb6-ab79-4391-b090-d7776ccd725d",
   "metadata": {},
   "outputs": [
    {
     "data": {
      "text/plain": [
       "[1,\n",
       " 3,\n",
       " 5,\n",
       " 7,\n",
       " 9,\n",
       " 11,\n",
       " 13,\n",
       " 15,\n",
       " 17,\n",
       " 19,\n",
       " 21,\n",
       " 23,\n",
       " 25,\n",
       " 27,\n",
       " 29,\n",
       " 31,\n",
       " 33,\n",
       " 35,\n",
       " 37,\n",
       " 39,\n",
       " 41,\n",
       " 43,\n",
       " 45,\n",
       " 47,\n",
       " 49,\n",
       " 51,\n",
       " 53,\n",
       " 55,\n",
       " 57,\n",
       " 59,\n",
       " 61,\n",
       " 63,\n",
       " 65,\n",
       " 67,\n",
       " 69,\n",
       " 71,\n",
       " 73,\n",
       " 75,\n",
       " 77,\n",
       " 79,\n",
       " 81,\n",
       " 83,\n",
       " 85,\n",
       " 87,\n",
       " 89,\n",
       " 91,\n",
       " 93,\n",
       " 95,\n",
       " 97,\n",
       " 99]"
      ]
     },
     "execution_count": 10,
     "metadata": {},
     "output_type": "execute_result"
    }
   ],
   "source": [
    "y=list(range(1,101))\n",
    "[i for i in y if i%2!=0]"
   ]
  },
  {
   "cell_type": "code",
   "execution_count": null,
   "id": "889aea4c-1a94-475b-964e-2d491899b185",
   "metadata": {},
   "outputs": [],
   "source": []
  }
 ],
 "metadata": {
  "kernelspec": {
   "display_name": "Python 3 (ipykernel)",
   "language": "python",
   "name": "python3"
  },
  "language_info": {
   "codemirror_mode": {
    "name": "ipython",
    "version": 3
   },
   "file_extension": ".py",
   "mimetype": "text/x-python",
   "name": "python",
   "nbconvert_exporter": "python",
   "pygments_lexer": "ipython3",
   "version": "3.10.8"
  }
 },
 "nbformat": 4,
 "nbformat_minor": 5
}
